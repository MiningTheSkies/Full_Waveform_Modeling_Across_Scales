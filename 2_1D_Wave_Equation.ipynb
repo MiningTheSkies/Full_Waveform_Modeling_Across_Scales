{
  "nbformat": 4,
  "nbformat_minor": 0,
  "metadata": {
    "colab": {
      "name": "2 -1D_Wave_Equation.ipynb",
      "provenance": [],
      "collapsed_sections": [
        "lQinAWCf9fVg",
        "DHQ7UkFC6fGo",
        "RxDv4dU8_BNp",
        "MSkNDDn2a7Th",
        "Sk2yjc3J8vW_",
        "0gGkBKti81OF"
      ],
      "include_colab_link": true
    },
    "kernelspec": {
      "name": "python3",
      "display_name": "Python 3"
    }
  },
  "cells": [
    {
      "cell_type": "markdown",
      "metadata": {
        "id": "view-in-github",
        "colab_type": "text"
      },
      "source": [
        "<a href=\"https://colab.research.google.com/github/MiningTheSkies/Full_Waveform_Modeling_Across_Scales/blob/main/2_1D_Wave_Equation.ipynb\" target=\"_parent\"><img src=\"https://colab.research.google.com/assets/colab-badge.svg\" alt=\"Open In Colab\"/></a>"
      ]
    },
    {
      "cell_type": "markdown",
      "metadata": {
        "id": "lQinAWCf9fVg"
      },
      "source": [
        "#### Libraries and Functions"
      ]
    },
    {
      "cell_type": "markdown",
      "metadata": {
        "id": "DHQ7UkFC6fGo"
      },
      "source": [
        "###### Library imports "
      ]
    },
    {
      "cell_type": "code",
      "metadata": {
        "id": "WZvhpBdC6una"
      },
      "source": [
        "# ----- Import Libraries -----\n",
        "#-----------------------------\n",
        "import numpy as np\n",
        "import pandas as pd\n",
        "# import itertools\n",
        "import matplotlib.pyplot as plt\n",
        "from matplotlib import gridspec"
      ],
      "execution_count": null,
      "outputs": []
    },
    {
      "cell_type": "markdown",
      "metadata": {
        "id": "RxDv4dU8_BNp"
      },
      "source": [
        "##### Functions"
      ]
    },
    {
      "cell_type": "markdown",
      "metadata": {
        "id": "MSkNDDn2a7Th"
      },
      "source": [
        "###### 1-D Wave Equation Solver function"
      ]
    },
    {
      "cell_type": "code",
      "metadata": {
        "id": "jnTfmSYP_x2x"
      },
      "source": [
        "# Define a solver function for the 1-D Wave Equation\n",
        "# --------------------------------------------------\n",
        "\n",
        "def wave_solver_1d(c, k, p, L, dt, dx, C, T, DOMAIN, bounds):\n",
        "    \"\"\"\n",
        "    This function will solve a 1-D wave equation of the form\n",
        "    u_tt = c^2 * u_xx + f on (0,L)x(0,T]\n",
        "    \"\"\"\n",
        "    # define parameters based on function input\n",
        "    if dt==999: dt=dx\n",
        "    elif dx==999: dx=dt\n",
        "    for i in range(len(DOMAIN)-1):\n",
        "        if c[i]==999: c[i]=np.sqrt(k[i]/p[i])\n",
        "        elif k[i]==999: k[i]=c[i]**2*p[i]\n",
        "        elif p[i]==999: p[i]=k[i]/c[i]**2\n",
        "        if C[i]==999: C[i]=c[i]*dt/dx\n",
        "    \n",
        "\n",
        "    Nt = int(round(T/dt))               # number of temporal nodes\n",
        "    t = np.linspace(0, Nt*dt, Nt+1)     # temporal mesh\n",
        "    # dx = dt*c/float(C)                  # space-step\n",
        "    Nx = int(round(L/dx))               # number of spatial nodes\n",
        "    x = np.linspace(0, L, Nx+1)         # spatial mesh\n",
        "\n",
        "    # Set parameter mesh in case of heterogeneous - only need to update C since c,k,p values are included in the C array\n",
        "    C_tmp = np.empty(Nx+1)\n",
        "    count = 0\n",
        "    for i in range(Nx+1):\n",
        "        C_tmp[i] = C[count]\n",
        "        if i == DOMAIN[count+1]/dx:\n",
        "            count += 1 \n",
        "\n",
        "    C2 = C_tmp**2                           # Courant condition - this will return C2 as an array of the same shape as C\n",
        "\n",
        "    # double check dx & dt compatibility due to potential rounding errors when creating x and t\n",
        "    dx = x[1]-x[0]\n",
        "    dt = t[1]-t[0]\n",
        "\n",
        "    u     = np.zeros(Nx+1)          # future time step (n+1) - this is what we will be solving for\n",
        "    u_n   = np.zeros(Nx+1)          # current time step (n)\n",
        "    u_nm1 = np.zeros(Nx+1)          # previous time step (n-1)\n",
        "\n",
        "    solution_space=np.empty((Nx+1,Nx+1))\n",
        "\n",
        "    import time; t0 = time.clock()  # we want to measure the CPU time used in order to compare runs/alterations\n",
        "\n",
        "    # Set initial condition - at *current* time\n",
        "    for i in range(Nx+1):\n",
        "        u_n[i] = np.exp(-0.1*(x[i]-50)**2) # take the user-defined initial condition and place it into the current time step\n",
        "\n",
        "    solution_space[0,:] = u_n\n",
        "    \n",
        "\n",
        "    # Set special n+1=1 (n=0) inner mesh - at *future* time\n",
        "    n = 0\n",
        "    u[1:-1] = 0.5 * C2[1:-1] * (u_n[:-2] - 2*u_n[1:-1] + u_n[2:]) + u_n[1:-1]         # This is the vectorized version of a for loop would usually be used for\n",
        "    \n",
        "    # Set bounds\n",
        "    for i in range(len(bounds)):                   # this will set both boundaries for both Dirichlet and Neumann cases for all t\n",
        "        if bounds[i] == \"Dirichlet\":\n",
        "            u[-i] = 0\n",
        "        elif i == 0:\n",
        "            u[0] = 2 * C2[0] * (u_n[1] - u_n[0]) + 2*u_n[0] - u_nm1[0]\n",
        "        else:\n",
        "            u[-1] = 2 * C2[-1] * (u_n[-2] - u_n[-1]) + 2*u_n[-1] - u_nm1[-1]\n",
        "    \n",
        "\n",
        "    # Cycle variables to update time-step for new run\n",
        "    u_nm1, u_n, u = u_n, u, u_nm1   # this is the faster 'switching references' version of vectorization and improves processing efficiency NOTE: u = u_nm1 now so BE CAREFUL!!!\n",
        "\n",
        "    solution_space[1,:] = u_n\n",
        "\n",
        "    # Run through the main simulation\n",
        "    for n in range(1, Nt):          # cycle through each temporal node\n",
        "\n",
        "        # update inner mesh\n",
        "        u[1:-1] = C2[1:-1] * (u_n[:-2] - 2*u_n[1:-1] + u_n[2:]) + 2*u_n[1:-1] - u_nm1[1:-1]\n",
        "\n",
        "        # update bounds ... (same formula as before)\n",
        "        for i in range(len(bounds)):                   # this will set both boundaries for both Dirichlet and Neumann cases for all t\n",
        "            if bounds[i] == \"Dirichlet\":\n",
        "                u[-i] = 0\n",
        "            elif i == 0:\n",
        "                u[0] = 2 * C2[0] * (u_n[1] - u_n[0]) + 2*u_n[0] - u_nm1[0]\n",
        "            else:\n",
        "                u[-1] = 2 * C2[-1] * (u_n[-2] - u_n[-1]) + 2*u_n[-1] - u_nm1[-1]\n",
        "        \n",
        "        # Cycle variables for next time-step\n",
        "        u_nm1, u_n, u = u_n, u, u_nm1\n",
        "\n",
        "        solution_space[n+1,:] = u_n\n",
        "\n",
        "        if np.any(np.isnan(solution_space[n+1,:])) or np.any(np.isinf(solution_space[n+1,:])):\n",
        "            solution_space[n+1,:] = n+1; cpu_time = time.clock() - t0\n",
        "            return solution_space, n\n",
        "\n",
        "    # reset u to u_n b/c our cycling style leaves it = to u_nm1\n",
        "    u = u_n\n",
        "    cpu_time = time.clock() - t0    # calculate the processing time required for the run\n",
        "\n",
        "    # return solution_space, u, x, t, cpu_time        # return u (which is n+1), space (x) and time (t) arrays, and the processing time\n",
        "    return solution_space, cpu_time"
      ],
      "execution_count": null,
      "outputs": []
    },
    {
      "cell_type": "markdown",
      "metadata": {
        "id": "Sk2yjc3J8vW_"
      },
      "source": [
        "###### Visualizer function"
      ]
    },
    {
      "cell_type": "code",
      "metadata": {
        "id": "x1yOYISu46gd"
      },
      "source": [
        "def viz(rows, SOLUTION_SPACE):\n",
        "    rows, cols = rows, SOLUTION_SPACE.shape[0]\n",
        "    fig = plt.figure(figsize=(24,12))#, sharex=True, sharey=True)\n",
        "    spec = fig.add_gridspec(nrows=rows, ncols=cols, wspace=.25, hspace=.25)\n",
        "    plt.suptitle('1-D Homogeneous Wave Equation', fontsize=24, x=.5)\n",
        "    # fig.text(.5,.925,'1D Heat Equation', fontsize=18, ha='center')\n",
        "\n",
        "    for row in range(rows):\n",
        "        for col in range(cols):\n",
        "            ax = fig.add_subplot(spec[row,col])\n",
        "            ax.plot(SOLUTION_SPACE[col, row*(int(L/dx/(rows-1))), :])          # L/dx/(rows-1) = 100/.1/10 = 100 but is dynamic for more/less graphs if desired\n",
        "            plt.ylim(SOLUTION_SPACE[col].min(), SOLUTION_SPACE[col].max())\n",
        "            # plt.legend(['T = %d' % (row*20)])\n",
        "            if col == 0:\n",
        "                plt.ylabel('T = {}'.format(row*(int(L/dx/(rows-1)))), fontsize=12)\n",
        "            # if row == 0:\n",
        "            #     ax.set_title(r'$\\Delta \\, t = %.2f \\, \\frac{\\Delta x^2}{D}$' % (dt[col]), fontsize=16)\n",
        "\n",
        "    # for ax in fig.get_axes():\n",
        "    #     ax.label_outer()\n",
        "    plt.show()"
      ],
      "execution_count": null,
      "outputs": []
    },
    {
      "cell_type": "markdown",
      "metadata": {
        "id": "oNtm0ZgxMoYP"
      },
      "source": [
        "```\n",
        "Course: GPGN 598B - Full Waveform Modelling Across Scales\n",
        "Date: Feb. 17, 2020\n",
        "```\n",
        "# Numerical Modeling - 1D Wave Equation\n",
        "---"
      ]
    },
    {
      "cell_type": "markdown",
      "metadata": {
        "id": "UtLeZxwRH8QG"
      },
      "source": [
        "## Finite Difference Method"
      ]
    },
    {
      "cell_type": "markdown",
      "metadata": {
        "id": "SSLKnGsPH_Fx"
      },
      "source": [
        "The following is what you may need in order to solve this problem set:\n",
        "\n",
        "\\begin{align}\n",
        "    \\partial_t^2 &\\approx \\frac{f(x,t+\\Delta t)-2f(x,t)+f(x,t-\\Delta t)}{\\Delta t^2} \\tag{1}\\\\\n",
        "    \\partial_x^2 &\\approx \\frac{f(x+\\Delta x,t)-2f(x,t)+f(x-\\Delta x,t)}{\\Delta x^2} \\tag{2}\\\\\n",
        "    \\partial_x &\\approx \\frac{f(x+\\Delta x,t)-f(x-\\Delta x,t)}{2\\Delta x} \\tag{3}\n",
        "\\end{align}\n",
        "\n",
        "where $f(x,t)$ is any given field."
      ]
    },
    {
      "cell_type": "markdown",
      "metadata": {
        "id": "s_s4tgi8IxE6"
      },
      "source": [
        "## 1) Wave Equation\n",
        "\n",
        "Discretization of the analytic wave equation"
      ]
    },
    {
      "cell_type": "markdown",
      "metadata": {
        "id": "MqHjaEfuKjS6"
      },
      "source": [
        "### Given Information"
      ]
    },
    {
      "cell_type": "markdown",
      "metadata": {
        "id": "VR7pxfnlI4G4"
      },
      "source": [
        "The 1-D expression of the wave equation is:\n",
        "\n",
        "$$\\tag{4}\n",
        "    \\rho(x)\\,\\partial_t^2u(x,t)=\\partial_x[\\kappa(x)\\,\\partial_xu(x,t)], \\qquad\n",
        "    (x\\in[0,L],t\\in[0,=\\infty))\n",
        "$$\n",
        "\n",
        "where $u(x,t)$ is the displacement field at the position $x$ at instant $t$, $\\rho(x)$ is the material density, and $\\kappa(x)$ is the material bulk modulus.\n",
        "\n",
        "If the material properties are constant, we can write:\n",
        "\n",
        "$$\\tag{5}\n",
        "    \\partial_t^2u(x,t)=c^2\\,\\partial_x^2u(x,t)\n",
        "$$\n",
        "\n",
        "where we have introduced the wavespeed $c$\n",
        "\n",
        "$$\\tag{6}\n",
        "    c=\\sqrt{\\frac\\kappa\\rho}\n",
        "$$\n",
        "\n",
        "Initially, let us consider constant material properties, and use the finite difference method to solve the 1-D 'homogeneous' wave equation:\n",
        "\n",
        "$$\n",
        "    \\partial_t^2u(x,t) = c^2\\,\\partial_x^2u(x,t)\n",
        "$$\n",
        "\n",
        "The initial conditions are:\n",
        "\n",
        "\\begin{align}\n",
        "    u(x,0) &= e^{-0.1(x-50)^2} \\tag{7}\\\\\n",
        "    \\partial_tu(x,0) &= 0 \\tag{8}\n",
        "\\end{align}\n",
        "\n",
        "We are going to first investigate 2 types of boundary conditions:\n",
        "\n",
        "- the Dirichlet boundary conditions correspond to a fixed termination, e.g. $u(0,t)=0$ that has no displacement at all times\n",
        "- the Neumann boundary conditions correspond to a termination free to move, e.g. $T(0,t)=0$\n",
        "\n"
      ]
    },
    {
      "cell_type": "markdown",
      "metadata": {
        "id": "m345XE0sKrhB"
      },
      "source": [
        "### Work"
      ]
    },
    {
      "cell_type": "markdown",
      "metadata": {
        "id": "uNSDaofVKrrV"
      },
      "source": [
        "Let $\\rho(x)\\,\\partial_t^2u(x,t)=\\partial_x[\\kappa(x)\\partial_xu(x,t)]$ represent the wave 1-D wave equation where $x\\in[0,L]$ and $t\\in[0,+\\infty)$. Assuming constant material properties, the wave equation simplifies to $\\partial_t^2u(x,t)=c^2\\partial_x^2u(x,t)$.\n",
        "\n",
        "In order to discretize the analytic wave equation, we simply implement equations (1) and (2) into (5), then perform the following operations:\n",
        "\n",
        "\\begin{align}\n",
        "    \\partial_t^2u(x,t)&=c_i^2\\partial_x^2u(x,t) \\\\\n",
        "    \\frac{u_i^{n-1}-2u_i^n+u_i^{n+1}}{\\Delta t^2} &= \n",
        "        c_i^2\\,\\frac{u_{i-1}^n-2u_i^n+u_{i+1}^n}{\\Delta x^2} \\\\\n",
        "    u_i^{n-1}-2u_i^n+u_i^{n+1} &= \n",
        "        c_i^2\\, \\frac{dt^2}{dx^2}\\, [u_{i-1}^n-2u_i^n+u_{i+1}^n] \\\\\\\\\n",
        "    u_i^{n+1} &= c_i^2\\, \\frac{dt^2}{dx^2}\\, [u_{i-1}^n-2u_i^n+u_{i+1}^n] +2u_i^n-u_i^{n-1} \\tag{9}\n",
        "\\end{align}\n",
        "\n",
        "Note that this is for $c$ at a particular position $i$."
      ]
    },
    {
      "cell_type": "markdown",
      "metadata": {
        "id": "ZstI5A5aLCcy"
      },
      "source": [
        "## 2) First Order System"
      ]
    },
    {
      "cell_type": "markdown",
      "metadata": {
        "id": "m955NRwir6Bq"
      },
      "source": [
        "### Given Information"
      ]
    },
    {
      "cell_type": "markdown",
      "metadata": {
        "id": "a92DAQWRLHZ9"
      },
      "source": [
        "To solve the wave equation, you can recognize that it is equivalent to\n",
        "\n",
        "\\begin{align}\n",
        "    \\rho(x)\\,\\partial_tv(x,t) &= \\partial_xT(x,t) \\tag{10} \\\\\n",
        "    \\partial_tT(x,t) &= \\kappa(x)\\,\\partial_xv(x,t) \\tag{11}\n",
        "\\end{align}\n",
        "\n",
        "where\n",
        "\n",
        "\\begin{align}\n",
        "    v(x,t) &= \\partial_tu(x,t) \\qquad & \\text{is a velocity} \\tag{12}\\\\\n",
        "    T(x,t) &= \\kappa(x)\\,\\partial_xu(x,t) \\qquad & \\text{is a stress} \\tag{13}\n",
        "\\end{align}\n",
        "\n",
        "Write the discretized form of the system to solve for (1) $(v,T)$ and (2) directly for $u$. The grid size $\\Delta x$ is chosen to be $0.1$. The string legnth is $L=100$. Plot your numerical results at several time steps for the following cases\n",
        "\n",
        "1. $c=1,\\; \\rho=1,\\; \\kappa=1 \\quad (x\\in[0,100])$, Dirichlet boundary conditions on both ends of the string\n",
        "2. $c=1,\\; \\rho=1,\\; \\kappa=1 \\quad (x\\in[0,100])$, Neumann boundary conditions on both ends of the string"
      ]
    },
    {
      "cell_type": "markdown",
      "metadata": {
        "id": "8WZQv-MUr8Zr"
      },
      "source": [
        "### Work"
      ]
    },
    {
      "cell_type": "markdown",
      "metadata": {
        "id": "pkQiCF9Ir-kf"
      },
      "source": [
        "First, we must discretize (and limit) the domain of the mesh in space and time:\n",
        "\n",
        "$$\n",
        "    0 = x_0 < x_1 < ... < x_{N_x-1} < x_{N_x} = L \\\\\n",
        "    0 = t_0 < t_1 < ... < t_{N_t-1} < t_{N_t} = T\n",
        "$$\n",
        "\n",
        "where $L$ and $T$ represent user-defined values (defaulting to $L=T=100$ in the base case). $\\hat{L}$ and $\\hat{T}$ will represent the sets of spatial and temporal values such that $i\\in \\hat{L}$ and $n\\in \\hat{T}$, where $N_x$ and $N_t$ will represent the maximal values of $L$ and $T$, respectively. Contextually, $L$ and $T$ will also refer to the maximal values, such as $L=T=100$.\n",
        "\n",
        ">To avoid conflicting notation, $T$ will represent the total time in a simulation while $T_s$ will represent stress. In code, this will be `T` and `T_s` respectively.\n",
        "\n",
        "In our case, the temporal and spatial meshes are of uniform difference, respectively, so coordinate points such as $u(x,t)$ can be discretized as follows:\n",
        "\n",
        "$$\n",
        "    u(x,t) = u(x_i,t_n) = u(\\,i\\,\\Delta x, \\,n\\,\\Delta t), \\qquad i=0,1,...,N_x,\\, n=0,1,...,N_t\n",
        "$$\n",
        "\n",
        "As previously defined in equation (9), the discretized form of the 1-D wave equation with constant material properties is:\n",
        "\n",
        "$$\n",
        "    u_i^{n+1} = c_i^2\\, \\frac{dt^2}{dx^2}\\, [u_{i-1}^n-2u_i^n+u_{i+1}^n] +2u_i^n-u_i^{n-1}\n",
        "$$\n",
        "\n",
        "Additionally, let $C$ represent $c\\frac{\\Delta t}{\\Delta x}$, such that:\n",
        "$$\n",
        "    C = c\\frac{\\Delta t}{\\Delta x} \\\\\n",
        "    C^2 = c^2\\frac{\\Delta t^2}{\\Delta x^2},\n",
        "$$\n",
        "\n",
        "leading to:\n",
        "\n",
        "$$\n",
        "    u_i^{n+1} = C^2\\, [u_{i-1}^n-2u_i^n+u_{i+1}^n] +2u_i^n-u_i^{n-1} \\tag{14},\n",
        "$$\n",
        "\n",
        "where $C$ represents the Courant number of the wave equation.\n",
        "\n",
        "\n",
        "To rewrite the wave equation (5) in terms of $(v,T)$, we use equations (10-13) as follows:\n",
        "\n",
        "\\begin{align}\n",
        "    \\rho(x)\\,\\partial_t^2u(x,t) &= \\partial_x[\\kappa(x)\\,\\partial_xu(x,t)] \\\\\n",
        "    \\rho(x)\\,\\partial_tv(x,t) &= \\partial_xT(x,t)\n",
        "\\end{align}\n",
        "\n",
        "```\n",
        "    Note: Equation (10) is perfectly fine but I am unsure how to implement equation (11).\n",
        "It seems incorrect to me since it does not contain any p, and the k's cancel out, resulting in there\n",
        "not being a phase velocity included.\n",
        "```"
      ]
    },
    {
      "cell_type": "markdown",
      "metadata": {
        "id": "irPbGEwbLYgx"
      },
      "source": [
        "We shall define and discretize the initial conditions for $I(x)$ as follows:\n",
        "\n",
        "\n",
        "\\begin{align} \n",
        "    I(x)\\; (\\forall\\, i\\in \\hat{L}) =\n",
        "    \\begin{cases}\n",
        "        u(x,0) &= u_i^0 &= e^{-0.1(x-50)^2} \\\\~\\\\\n",
        "        \\partial_tu(x,0) &= \\partial_tu_i^0 &= 0 \\\\\n",
        "        v(x,0) &= v_i^0 &= 0\n",
        "    \\end{cases}\n",
        "\\end{align}\n",
        "\n",
        "The bottom two conditions are equivalent and useful for defining the initial time-step $u_i^1 \\; \\forall\\,i\\in \\hat{L}$. This is very important as the $u_i^0$ case, using the centered difference method, requires using $u_i^{-1}$ (using equation (3) for $\\partial_t$), which is outside of the considered temporal domain, as seen below:\n",
        "\n",
        "$$\n",
        "    \\partial_tu(x_i,t_0)\\approx\\frac{u_i^1-u_i^{-1}}{2\\Delta t}\n",
        "$$\n",
        "\n",
        "Given that we already know the initial condition of $\\partial_tu_i^0=I(x)=0$, we can rework the above equation to:\n",
        "\n",
        "\\begin{align}\n",
        "    \\partial_tu_i^0 &\\approx \\frac{u_i^1-u_i^{-1}}{2\\Delta t} \\\\\n",
        "    0 &= \\frac{u_i^1-u_i^{-1}}{2\\Delta t} \\\\\n",
        "    u_i^{-1} &= u_i^1\n",
        "\\end{align}\n",
        "\n",
        "which, when $n=0$ and we're solving for $n+1$ (i.e. $u_1^1$) using equation (14), results in:\n",
        "\n",
        "\\begin{align}\n",
        "    u_i^{1} &= C^2\\, [u_{i-1}^0-2u_i^0+u_{i+1}^0] + 2u_i^0-\\bf{u_i^{-1}} \\\\\n",
        "    u_i^{1} &= C^2\\, [u_{i-1}^0-2u_i^0+u_{i+1}^0] + 2u_i^0-\\bf{u_i^{1}} \\\\\n",
        "    2u_i^{1} &= C^2\\, [u_{i-1}^0-2u_i^0+u_{i+1}^0] + 2u_i^0 \\\\\n",
        "    u_i^{1} &= \\frac12 C^2\\, [u_{i-1}^0-2u_i^0+u_{i+1}^0] + u_i^0 \\tag{15}\n",
        "\\end{align}\n",
        "\n",
        "Similarly to the initial condition when $N=0$, looking at the boundary conditions, we must perform the same trick with $\\partial_x$ when $i=0$ and $i=N_x$ where $T(0,t)=0$.\n",
        "\n",
        "\\begin{align}\n",
        "    T(0,t_n) &= \\kappa(0)\\,\\partial_xu(0,t_n) \\\\\n",
        "    \\kappa(0)\\,\\partial_xu(0,t_n) &\\approx \\frac{u_{1}^n-u_{-1}^n}{2\\Delta x} \\\\\n",
        "    0 &= \\frac{u_{1}^n-u_{-1}^n}{2\\Delta x} \\\\\n",
        "    u_{-1}^n &= u_1^n \\\\\n",
        "\\end{align}\n",
        "\n",
        "However, implementation of the above equation into equation (14) is not necessarily as quick and easy as the initial condition.\n",
        "\n",
        "<!-- Following the same steps that led to equation (15) yields\n",
        "\n",
        "\\begin{align}\n",
        "    u_0^{n+1} &= C^2\\, [\\boldsymbol{u_{-1}^0}-2u_0^n+u_{1}^n] + 2u_0^n-u_0^{n-1} \\\\\n",
        "    u_0^{n+1} &= C^2\\, [\\boldsymbol{u_1^0}-2u_0^n+u_{1}^n] + 2u_0^n-u_0^{n-1} \\\\\n",
        "    u_0^{n+1} &= C^2\\, [-u_0^n+u_{1}^n] + 2u_0^n-u_0^{n-1}\n",
        "\\end{align}\n",
        "\n",
        "\n",
        "This is the only point in the mesh, other than the boundaries, that we need to do anything beyond the scope of equation (14). The boundary conditions will be:\n",
        "\n",
        "\\begin{align}\n",
        "    u(0,t) &= \n",
        "\\end{align} -->\n"
      ]
    },
    {
      "cell_type": "markdown",
      "metadata": {
        "id": "5vCtSumoFErI"
      },
      "source": [
        "Unlike the Dirichlet boundary condition which is a fixed value condition, the Neumann boundary condition is a differential condition which must be taken care. The Neumann boundary\n",
        "\n",
        "\\begin{equation}\n",
        "    T(0,t) = \\kappa(0)\\frac{du}{dx}\\Bigr|_{x=N_x} = \\frac{du}{dx}\\Bigr|_{x=N_x} = 0\n",
        "\\end{equation}\n",
        "\n",
        "must be discretized in such a manner that it can also be plugged into the general mesh equation, such as we did with the initial condition. To accurately discretize it, we will use the $u_{N_x}$ case and look at the difference between $N_x$ and $N_x-1$ by using a backward Taylor series expansion (i.e using $u_{N_x}$ to solve for $u_{(N_x-1)}$).\n",
        "\n",
        "\\begin{equation}\n",
        "    u_{(N_x-1)} = u_{N_x}-\\Delta x\\frac{du}{dx}\\Bigr|_{N_x} +\n",
        "        \\frac{\\Delta x^2}{2!}\\frac{d^2u}{dx^2}\\Bigr|_{N_x} -\n",
        "        \\frac{\\Delta x^3}{3!}\\frac{d^3u}{dx^3}\\Bigr|_{N_x} + ...\n",
        "\\end{equation}\n",
        "\n",
        "Since we already know $\\frac{du}{dx}=0$, we can plug it in and then rewrite the equation in order to find the $\\frac{d^2u}{dx^2}$ term since this is what matches our general mesh equation (because it is second-order). However, in order to solve the general case, we will solve using an arbitrary term $Q$ instead of $0$ such that $\\frac{du}{dx}=Q$.\n",
        "\n",
        "\\begin{align}\n",
        "    u_{(N_x-1)} &= u_{N_x}-\\Delta x\\frac{du}{dx}\\Bigr|_{N_x} +\n",
        "        \\frac{\\Delta x^2}{2!}\\frac{d^2u}{dx^2}\\Bigr|_{N_x} -\n",
        "        \\frac{\\Delta x^3}{3!}\\frac{d^3u}{dx^3}\\Bigr|_{N_x} + ... \\\\[7.5pt]\n",
        "    u_{(N_x-1)} &= u_{N_x}-\\Delta x\\,Q\\Bigr|_{N_x} +\n",
        "        \\frac{\\Delta x^2}{2!}\\frac{d^2u}{dx^2}\\Bigr|_{N_x} -\n",
        "        \\frac{\\Delta x^3}{3!}\\frac{d^3u}{dx^3}\\Bigr|_{N_x} + ... \\\\[7.5pt]\n",
        "    \\frac{d^2u}{dx^2}\\Bigr|_{N_x} &= \\frac{2}{\\Delta x^2}[u_{(N_x-1)} -\n",
        "        u_{N_x}+Q\\Delta x]+\\frac{\\Delta x}{3}\\frac{d^3u}{dx^3}\\Bigr|_{N_x} - ...\n",
        "\\end{align}\n",
        "\n",
        "At this point, we have successfully found our connection to the general mesh equation; however, it is only first-order accurate whereas our general equation is second-order accurate (as determined by the degree of $\\Delta x$ in the fourth term of the expansion). This will undoutable create some contamination in the data but is unavoidable unless a second backward Taylor series expansion were performed at $N_x-2$ to achieve second-order accuracy (but that brings in other issues we don't want to deal with).\n",
        "\n",
        "At this point, we can continue by throwing away the extraneous error term (where $\\Delta x$ is in the 4th term)\n",
        "\n",
        "\\begin{equation}\n",
        "    \\frac{d^2u}{dx^2}\\Bigr|_{N_x} = \\frac{2}{\\Delta x^2}[u_{(N_x-1)} -\n",
        "        u_{N_x}+Q\\Delta x] = S_{N_x}\n",
        "\\end{equation}\n",
        "\n",
        "where $S_{N_x}$ can be considered the 'source term' (boundary) at $N_x$. Finally, we solve back for our desired terms without $Q$\n",
        "\n",
        "\\begin{align}\n",
        "    \\frac{2}{\\Delta x^2}[u_{(N_x-1)} - u_{N_x}+Q\\Delta x] &= S_{N_x} \\\\\n",
        "    \\frac{2}{\\Delta x^2}[u_{(N_x-1)} - u_{N_x}] &= S_{N_x}-\\frac{2Q}{\\Delta x}\n",
        "\\end{align}\n",
        "\n",
        "Substituting $0$ back in for $Q$ yields\n",
        "\n",
        "\\begin{equation}\n",
        "    \\frac{2}{\\Delta x^2}[u_{(N_x-1)} - u_{N_x}] = S_{N_x}\n",
        "\\end{equation}\n",
        "\n",
        "We can finally use this as the spatial result and plug back into the original equation (14)\n",
        "\n",
        "$$\n",
        "    u_i^{n+1} = C^2\\, [u_{i-1}^n-2u_i^n+u_{i+1}^n] +2u_i^n-u_i^{n-1}\n",
        "$$\n",
        "and, where $i=N_x$, obtain\n",
        "\\begin{align}\n",
        "    u_{N_x}^{n+1} = 2\\,C^2\\, [u_{N_x-1}^n-u_{N_x}^n] +2u_{N_x}^n-u_{N_x}^{n-1}\n",
        "\\end{align}\n",
        "\n",
        "To reconcile the new $2C^2$, we recall that we were simply solving the spatial component of the wave equation and that $C^2=c^2\\frac{\\Delta t^2}{\\Delta x^2}$, taking care of the $\\Delta x^2$ that we no longer see.\n",
        "\n",
        "Similarly for $i=0$, \n",
        "\n",
        "$$\n",
        "    u_{0}^{n+1} = 2\\,C^2\\, [u_{1}^n-u_{0}^n] +2u_{0}^n-u_{0}^{n-1}\n",
        "$$"
      ]
    },
    {
      "cell_type": "markdown",
      "metadata": {
        "id": "X61GLtSHeDfK"
      },
      "source": [
        "Finally, we have all of the equations that we need: the initial condition, the left and right boundary conditions for both Dirichlet and Neumann, and the general mesh.\n",
        "\n",
        "\\begin{align}\n",
        "    u(x_i,t_n)\\, \\forall\\; (n\\in\\hat{T},\\, i\\in\\hat{L})  =\n",
        "    \\begin{cases}\n",
        "        I(x) &\n",
        "            \\begin{cases}\n",
        "                u_i^0 = e^{-0.1(x-50)^2}\n",
        "            \\end{cases} \\\\[10pt]\n",
        "        \\text{Bounds} &\n",
        "            \\begin{cases}\n",
        "                \\text{Dirichlet}\n",
        "                    \\begin{cases}\n",
        "                        u_0^n = 0\\\\[7.5pt]\n",
        "                        u_{N_x}^n = 0\n",
        "                    \\end{cases} \\\\[10pt]\n",
        "                \\text{Neumann}\n",
        "                    \\begin{cases}\n",
        "                        u_0^{n+1}=2C^2[u_1^n-u_0^n]+2u_0^n-u_0^{n-1} \\\\[7.5pt]\n",
        "                        u_{N_x}^{n+1}=2C^2[u_{(N_x-1)}^n-u_{N_x}^n]+2u_{N_x}^n-u_{N_x}^{n-1}\n",
        "                    \\end{cases}\n",
        "            \\end{cases} \\\\[10pt]\n",
        "        \\text{Inner Mesh} &\n",
        "            \\begin{cases}\n",
        "                u_i^{1} = \\frac12 C^2\\, [u_{i-1}^0-2u_i^0+u_{i+1}^0] + u_i^0 \\\\[7.5pt]\n",
        "                u_i^{n+1} = C^2\\, [u_{i-1}^n-2u_i^n+u_{i+1}^n] +2u_i^n-u_i^{n-1}\n",
        "            \\end{cases}\n",
        "    \\end{cases}\n",
        "\\end{align}"
      ]
    },
    {
      "cell_type": "code",
      "metadata": {
        "id": "zbBhXdnzXjFd"
      },
      "source": [
        "# edit this *BEFORE* you begin running simulations\n",
        "simulations_to_run = 2         # how many simulations do you want to run? Store them here.\n",
        "\n",
        "SOLUTION_SPACE = np.empty((simulations_to_run, 1001,1001))"
      ],
      "execution_count": null,
      "outputs": []
    },
    {
      "cell_type": "code",
      "metadata": {
        "id": "FIKNIhfv9V4e",
        "colab": {
          "base_uri": "https://localhost:8080/"
        },
        "cellView": "form",
        "outputId": "d5b8b720-7283-49ad-e830-48423f7b2f85"
      },
      "source": [
        "#@title Simulation Builder\n",
        "#@markdown #### We can now programmatically write and solve the wave equation.\n",
        "#@markdown Here, we manually define the parameters that go into the equation, which will be in the form of a written solver function.\n",
        "#@markdown Not *all* values need to be filled in, e.g. dt isn't required if dx is known.\n",
        "#@markdown Absolutely required fields will be marked with a (*), items that require one or the other\n",
        "#@markdown will be designated with corresponding letters. Mark empty fields with 999.\n",
        "\n",
        "#@markdown > If the model requires changes in parameters, separate the numbers with a comma\n",
        "#@markdown > and define the domain as 0, x1, x2, ..., L where [0,x1] is the first domain, (x1,x2] is the second, etc.\n",
        "#@markdown > -- It is important that the number of domains matches the number of parameters!\n",
        "\n",
        "#@markdown \\* Length of the string:\n",
        "L = 100 #@param {type:\"slider\", min:0, max:100, step:1}\n",
        "#@markdown \\* Total time to run the simulation:\n",
        "T = 100 #@param {type:\"number\"}\n",
        "#@markdown (a) Space between each grid in space (delta x):\n",
        "dx = 0.1 #@param {type:\"number\"}\n",
        "#@markdown (a) Space between each grid in time (delta t):\n",
        "dt =  0.1#@param {type:\"number\"}\n",
        "#@markdown (2/3 b) Phase velocity (wave speed):\n",
        "c = \"1\" #@param {type:\"string\"}\n",
        "#@markdown (2/3 b) Material density:\n",
        "p = \"1\" #@param {type:\"string\"}\n",
        "#@markdown (2/3 b) Material bulk modulus:\n",
        "k = \"1\" #@param {type:\"string\"}\n",
        "#@markdown Courant Number\n",
        "C = \"999\" #@param {type:\"string\"}\n",
        "# #@markdown \\* Initial condition (write in NumPy format):\n",
        "# I = \"np.exp(-0.1(x-50)^2)\" #@param {type:\"string\"}\n",
        "#@markdown \\* Domains (based on L):\n",
        "DOMAIN = \"0,100\" #@param {type:\"string\"}\n",
        "#@markdown \\* Choose the left and right bounds of the function:\n",
        "bound_left = \"Neumann\" #@param [\"Dirichlet\", \"Neumann\"]\n",
        "bound_right = \"Neumann\" #@param [\"Dirichlet\", \"Neumann\"]\n",
        "\n",
        "L = int(L)\n",
        "T = int(T)\n",
        "dx = float(dx)\n",
        "dt = float(dt)\n",
        "c = np.fromstring(c, dtype=float, sep=\",\")\n",
        "p = np.fromstring(p, dtype=float, sep=\",\")\n",
        "k = np.fromstring(k, dtype=float, sep=\",\")\n",
        "C = np.fromstring(C, dtype=float, sep=\",\")\n",
        "DOMAIN = np.fromstring(DOMAIN, dtype=float, sep=\",\")\n",
        "bounds = np.array([bound_left, bound_right])\n",
        "\n",
        "print(L,T,dx,dt,c,p,k,C,DOMAIN,bounds)"
      ],
      "execution_count": null,
      "outputs": [
        {
          "output_type": "stream",
          "text": [
            "100 100 0.1 0.1 [1.] [1.] [1.] [999.] [  0. 100.] ['Dirichlet' 'Dirichlet']\n"
          ],
          "name": "stdout"
        }
      ]
    },
    {
      "cell_type": "code",
      "metadata": {
        "colab": {
          "base_uri": "https://localhost:8080/"
        },
        "id": "NnwNExsc8Cse",
        "outputId": "599103e0-dd6c-478f-ced2-11fa7f9bc14a"
      },
      "source": [
        "# run this and update the first index of SOLUTION_SPACE for each simulation you want to run.\n",
        "SOLUTION_SPACE[1,:,:], cpu_time = wave_solver_1d(c, k, p, L, dt, dx, C, T, DOMAIN, bounds)\n",
        "cpu_time    # actually \"n\" right now\n",
        "# SOLUTION_SPACE[0]"
      ],
      "execution_count": null,
      "outputs": [
        {
          "output_type": "execute_result",
          "data": {
            "text/plain": [
              "0.03706799999999788"
            ]
          },
          "metadata": {
            "tags": []
          },
          "execution_count": 85
        }
      ]
    },
    {
      "cell_type": "code",
      "metadata": {
        "colab": {
          "base_uri": "https://localhost:8080/",
          "height": 787
        },
        "id": "FmNPI20N7-0P",
        "outputId": "e0334aa4-a452-4766-87c9-2872160c389d"
      },
      "source": [
        "# run this to visualize the wave equation - each simulation will be stacked side-by-side\n",
        "rows = 21\n",
        "viz(rows, SOLUTION_SPACE)"
      ],
      "execution_count": null,
      "outputs": [
        {
          "output_type": "display_data",
          "data": {
            "image/png": "[encoded data removed]",
            "text/plain": [
              "<Figure size 1728x864 with 42 Axes>"
            ]
          },
          "metadata": {
            "tags": [],
            "needs_background": "light"
          }
        }
      ]
    },
    {
      "cell_type": "markdown",
      "metadata": {
        "id": "Ccr4EAl5MWFc"
      },
      "source": [
        "## 3) Heterogeneous materials"
      ]
    },
    {
      "cell_type": "markdown",
      "metadata": {
        "id": "EIv61GQ5MY8L"
      },
      "source": [
        "The same code above can be slightly modified to investigate the evolution of the displacement field time series, when\n",
        "\n",
        "1. $c(x)=1,\\; \\rho(x)=1,\\; \\kappa(x)=1 \\quad (x\\in[0,60])$\n",
        "2. $c(x)=2,\\; \\rho(x)=1,\\; \\kappa(x)=4 \\quad (x\\in(60,100])$\n",
        "\n",
        "using the same initial conditions than previously, and the Dirichlet boundary conditions in $x=0$ and the Neumann boundary conditions in $x=100$."
      ]
    },
    {
      "cell_type": "markdown",
      "metadata": {
        "id": "0gGkBKti81OF"
      },
      "source": [
        "## To Be Continued"
      ]
    },
    {
      "cell_type": "code",
      "metadata": {
        "id": "toUmptL3gPdr"
      },
      "source": [
        "# # def vizualize(\n",
        "# #     c, k, p, L, dt, dx, C, T, DOMAIN, bounds,       # variables necessary to run the solver\n",
        "# #     animate=True):                                  # animate the simulation\n",
        "\n",
        "# #     class PlotMatplotlib:                           # future iterations will potentially use Bokeh plotting so I'm future proofing this, otherwise this is unnecessary\n",
        "# #         def __call__(self, solution_space, u, x, t, n):\n",
        "# #             \"\"\" Version 1 of this class \"\"\"\n",
        "# #             if n == 0:\n",
        "# #                 plt.ion()\n",
        "# #                 self.lines = plt.plot(x, u, 'r-')\n",
        "# #                 plt.xlabel('x'); plt.ylabel('u')\n",
        "# #                 plt.axis([0, L, solution_space.min(), solution_space.max()])\n",
        "# #                 plt.legend(['t=%f' % t[n]], loc='lower left')\n",
        "# #             else:\n",
        "# #                 self.lines[0].set_ydata(u)\n",
        "# #                 plt.legend(['t=%f' % t[n]], loc='lower left')\n",
        "# #                 plt.draw()\n",
        "# #             time.sleep(2) if t[n] == 0 else time.sleep(0.2)\n",
        "# #             plt.savefig('tmp_04%d.png' % n)         # saves figures to compile into a movie\n",
        "    \n",
        "#     # Run the simulation\n",
        "\n",
        "\n",
        "\n",
        "# rows, cols = 6, 1\n",
        "# fig = plt.figure(figsize=(24,12))#, sharex=True, sharey=True)\n",
        "# spec = fig.add_gridspec(nrows=rows, ncols=cols, wspace=.25, hspace=.25)\n",
        "# plt.suptitle('1-D Homogeneous Wave Equation', fontsize=24, x=.5)\n",
        "# # fig.text(.5,.925,'1D Heat Equation', fontsize=18, ha='center')\n",
        "\n",
        "# for row in range(rows):\n",
        "#     for col in range(cols):\n",
        "#         ax = fig.add_subplot(spec[row,col])\n",
        "#         ax.plot(sol_space_1[col,:,row*20])\n",
        "#         plt.ylim(,T_spike)\n",
        "#         # plt.legend(['T = %d' % (row*20)])\n",
        "#         if col == 0:\n",
        "#             plt.ylabel('T = {}'.format(row*20), fontsize=12)\n",
        "#         if row == 0:\n",
        "#             ax.set_title(r'$\\Delta \\, t = %.2f \\, \\frac{\\Delta x^2}{D}$' % (dt[col]), fontsize=16)\n",
        "\n",
        "# # for ax in fig.get_axes():\n",
        "# #     ax.label_outer()\n",
        "# plt.show()"
      ],
      "execution_count": null,
      "outputs": []
    }
  ]
}