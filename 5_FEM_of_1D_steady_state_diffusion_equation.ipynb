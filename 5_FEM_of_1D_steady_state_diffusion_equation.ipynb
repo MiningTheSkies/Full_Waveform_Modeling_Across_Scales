{
  "nbformat": 4,
  "nbformat_minor": 0,
  "metadata": {
    "colab": {
      "name": "5 - FEM_of_1D_steady_state_diffusion_equation.ipynb",
      "provenance": [],
      "collapsed_sections": [],
      "include_colab_link": true
    },
    "kernelspec": {
      "name": "python3",
      "display_name": "Python 3"
    }
  },
  "cells": [
    {
      "cell_type": "markdown",
      "metadata": {
        "id": "view-in-github",
        "colab_type": "text"
      },
      "source": [
        "<a href=\"https://colab.research.google.com/github/MiningTheSkies/Full_Waveform_Modeling_Across_Scales/blob/main/5_FEM_of_1D_steady_state_diffusion_equation.ipynb\" target=\"_parent\"><img src=\"https://colab.research.google.com/assets/colab-badge.svg\" alt=\"Open In Colab\"/></a>"
      ]
    },
    {
      "cell_type": "markdown",
      "metadata": {
        "id": "edddoNSe853k"
      },
      "source": [
        "#### Preface"
      ]
    },
    {
      "cell_type": "markdown",
      "metadata": {
        "id": "c6iA0b0i9Dyo"
      },
      "source": [
        "This notebook was put together on Google Colab and makes use of both Google Colab's specific LaTeX formatting/tags (MathJax), as well as Google Colab's 'Forms' feature. Formatting changes in GitHub are manageable but running the simulation not on Google Colab will require hardcoding the values at the approprite blocks."
      ]
    },
    {
      "cell_type": "markdown",
      "metadata": {
        "id": "lQinAWCf9fVg"
      },
      "source": [
        "#### Libraries and Functions"
      ]
    },
    {
      "cell_type": "markdown",
      "metadata": {
        "id": "DHQ7UkFC6fGo"
      },
      "source": [
        "###### Library imports "
      ]
    },
    {
      "cell_type": "code",
      "metadata": {
        "id": "MN-jjMdfpYc1"
      },
      "source": [
        "# !pip3 install -q pypandoc"
      ],
      "execution_count": null,
      "outputs": []
    },
    {
      "cell_type": "code",
      "metadata": {
        "id": "WZvhpBdC6una"
      },
      "source": [
        "# ----- Import Libraries -----\n",
        "#-----------------------------\n",
        "## used\n",
        "import numpy as np\n",
        "import matplotlib.pyplot as plt\n",
        "# from scipy.integrate import odeint\n",
        "# from IPython import display\n",
        "plt.rcParams['figure.figsize']= [12,6]\n",
        "plt.rcParams.update({'font.size': 18})\n",
        "\n",
        "## unused\n",
        "# import pandas as pd\n",
        "# import itertools\n",
        "# from matplotlib import gridspec"
      ],
      "execution_count": null,
      "outputs": []
    },
    {
      "cell_type": "markdown",
      "metadata": {
        "id": "RxDv4dU8_BNp"
      },
      "source": [
        "##### Functions"
      ]
    },
    {
      "cell_type": "markdown",
      "metadata": {
        "id": "oNtm0ZgxMoYP"
      },
      "source": [
        "```\n",
        "Course: GPGN 598B - Full Waveform Modelling Across Scales\n",
        "Date: April 10, 2020\n",
        "```\n",
        "# Finite Element Method - 1D Steady State Diffusion Equation\n",
        "---"
      ]
    },
    {
      "cell_type": "markdown",
      "metadata": {
        "id": "jHUbZcvX9nLn"
      },
      "source": [
        "## Finite Element Method\n",
        "---"
      ]
    },
    {
      "cell_type": "markdown",
      "metadata": {
        "id": "IQSMj98U9x2f"
      },
      "source": [
        "Write a finite-element program, using linear shape functions, to find the temperature $T$ in $[0, 1]$ such that (strong form)\n",
        "\n",
        "$$\n",
        "    \\partial_x^2 T + f = 0\n",
        "$$\n",
        "\n",
        "where $f$ is a source or sink, with the following boundary conditions:\n",
        "\n",
        "\\begin{align}\n",
        "    T(1) &= T_1 \\\\\n",
        "    -\\partial_x T(0) &= q_0\n",
        "\\end{align}\n",
        "\n",
        "Solve this problem as follows:\n",
        "\n",
        "1. Write the weak form of the equation by introducing the linear shape functions $N_A$ & $N_{N_{el}+1}$\n",
        "2. Define the local (element level) stiffness matrix and right-hand-side vector\n",
        "3. Assemble these local matrices into global matrices (global level).\n",
        "4. Prescribe the number of elements ($N_{el}$). Choose a couple of cases, for example, $N_{el} = 10$ and $N_{el} = 2$.\n",
        "5. Explore two sets of boundary conditions:\n",
        "<ol type = \"i\">\n",
        "    <li>$T_1 = 1$, $q_0 = 1$, and $f=0$</li>\n",
        "    <li>$T_1 = 1$, $q_0 = 1$, and $f=1$</li>\n",
        "</ol>\n",
        "\n",
        "Compare the FEM solution to the exact solution to the strong form, by plotting the temperature $T$ versus $x$."
      ]
    },
    {
      "cell_type": "markdown",
      "metadata": {
        "id": "MjG4E7H7r_Py"
      },
      "source": [
        "## Work\n",
        "---"
      ]
    },
    {
      "cell_type": "markdown",
      "metadata": {
        "id": "uT-uW_0VsDR2"
      },
      "source": [
        "#### Part 1: Weak Form\n",
        "Write the weak form of the equation by introducing the linear shape functions $N_A$ & $N_{N_{el}+1}$\n",
        "___"
      ]
    },
    {
      "cell_type": "markdown",
      "metadata": {
        "id": "XndIhRutAkV8"
      },
      "source": [
        "Given\n",
        "\n",
        "$$\n",
        "    \\partial_x^2 T + f = 0\n",
        "$$\n",
        "1. Add test vectors to the strong form, where $\\omega(1)=0$\n",
        "\n",
        "\\begin{align}\n",
        "    \\omega\\partial_x^2 T + \\omega f &= 0\n",
        "\\end{align}\n",
        "\n",
        "2. Integrate over the domain $[0, 1]$ using integration by parts\n",
        "\n",
        "    2.1. Add integrands\n",
        "\\begin{equation}\n",
        "    \\omega\\partial_x^2 T + \\omega f = 0 \\\\\n",
        "    \\int_0^1\\omega\\partial_x^2 Tdx + \\int_0^1\\omega f dx = 0\n",
        "\\end{equation}\n",
        "\n",
        "    2.2. Integate the first term by part\n",
        "\\begin{equation}\n",
        "    \\int_0^1\\omega\\partial_x^2 Tdx = \\big[\\omega\\partial_x T\\big]_0^1 - \\int_0^1 \\partial_x T\\partial_x \\omega dx\n",
        "\\end{equation}\n",
        "\n",
        "    2.3. Substitute back into previous equation\n",
        "\\begin{equation}\n",
        "    - \\int_0^1\\partial_x T\\partial_x \\omega dx + \\big[\\omega\\partial_x T\\big]_0^1 + \\int_0^1\\omega f dx = 0\n",
        "\\end{equation}\n",
        "\n",
        "    2.4. Apply boundary conditions and simplify\n",
        "\\begin{equation}\n",
        "    - \\int_0^1\\partial_x T\\partial_x \\omega dx + \\big[\\omega\\partial_x T\\big]_0^1 + \\int_0^1\\omega f dx = 0 \\\\\n",
        "    - \\int_0^1\\partial_x T\\partial_x \\omega dx - \\omega(0)\\partial_x T(0) + \\int_0^1\\omega f dx = 0 \\\\\n",
        "    - \\int_0^1\\partial_x T\\partial_x \\omega dx + \\omega(0)q_0 + \\int_0^1\\omega f dx = 0\n",
        "\\end{equation}\n",
        "\n",
        "3. Simplify notation\n",
        "\n",
        "    Let $a(\\omega, T) \\equiv \\int_0^1\\partial_x \\omega\\partial_x T dx$\n",
        "\n",
        "    Let $(\\omega,f) \\equiv \\int_0^1\\omega fdx$\n",
        "\n",
        "    $\\therefore \\quad \\omega(0)q_0 - a(\\omega, T) + (\\omega,f) = 0$\n",
        "\n",
        "4. Rewrite with shape functions\n",
        "\n",
        "    4.1. Write as shape functions where\n",
        "$$\n",
        "    \\omega(x) = \\sum_{A=1}^{Nel} C_A N_A(x) \\\\\n",
        "    T(x) = \\sum_{A=1}^{Nel}d_A N_A(x) + T_1 N_{Nel+1}(x)\n",
        "$$\n",
        "Where $N_A(1) = 0$ and $N_{Nel+1}(1) = 1$\n",
        "\n",
        "    4.2. Rewrite\n",
        "\\begin{equation}\n",
        "    - \\int_0^1\\partial_x \\omega\\partial_x T dx + \\int_0^1\\omega f dx + \\omega(0)q_0 = 0 \\\\[5pt]\n",
        "\\end{equation}\n",
        "\\begin{align}\n",
        "    &-\\int_0^1\\Big(\\sum_AC_A\\partial_x N_A\\Big)\\Big(\\sum_Bd_B\\partial_xN_B\\Big)dx \\\\\n",
        "        &-\\int_0^1\\Big(\\sum_AC_A\\partial_xN_A\\Big)\\Big(T_1\\partial_xN_{Nel+1}\\Big)dx \\\\\n",
        "        &+\\int_0^1\\Big(\\sum_AC_A\\partial_xN_Af\\Big)dx\n",
        "        +q_0\\sum_AC_AN_A(0) = 0\n",
        "\\end{align}\n",
        "\n",
        "    4.3. Simplify by zeroing most coefficients ($C$) except one, which will be equal to 1, such that\n",
        "\\begin{equation}\n",
        "    -\\sum_B\\int_0^1\\partial_xN_Ad_B\\partial_xN_Bdx\n",
        "        -\\int_0^1\\partial_xN_AT_1\\partial_x N_{Nel+1}dx\n",
        "        +\\int_0^1 N_A f dx + q_0N_A(0) = 0\n",
        "\\end{equation}"
      ]
    },
    {
      "cell_type": "markdown",
      "metadata": {
        "id": "yHdHjeltPYvL"
      },
      "source": [
        "Further, we define the _Stiffness_ and _Force_ matrices as follows:\n",
        "\n",
        "Stiffness Matrix:\n",
        "\\begin{equation}\n",
        "    K_{AB} \\equiv a\\big(N_A, N_B\\big) = \\int_0^1\\partial_xN_A\\partial_xN_Bdx\n",
        "\\end{equation}\n",
        "\n",
        "Force Matrix:\n",
        "\\begin{equation}\n",
        "    F_A \\equiv \\int_0^1N_Afdx + q_0N_A(0) - T_1a\\big(N_A, N_{Nel+1}\\big)\n",
        "\\end{equation}\n",
        "\n",
        "Where\n",
        "\n",
        "\\begin{align}\n",
        "    K_{AB}\\;d_B = F_A \\\\\n",
        "    d_B = K_{AB}^{-1}\\,F_{A}\n",
        "\\end{align}"
      ]
    },
    {
      "cell_type": "code",
      "metadata": {
        "id": "I6FHzxmgzpFU"
      },
      "source": [
        "# Initialize parameters\n",
        "\n",
        "Nx = 12             # number of elements (Nel)\n",
        "Nel = 2             # number of shape functions\n",
        "T = np.zeros(Nx)    # Temperature (solution) vector\n",
        "f1 = np.zeros(Nx)   # Source vector (all = 0) - first case\n",
        "f2 = np.ones(Nx)    # Source vector (all = 1) - 2nd case\n",
        "\n",
        "x = np.linspace(0, 1, Nx+1) # x values in [0,1]\n",
        "h = x[1] - x[0]             # Width of each element (uniform width)\n",
        "\n",
        "# Bounds\n",
        "RB = T1 = 1\n",
        "LB_d = q0 = 1"
      ],
      "execution_count": null,
      "outputs": []
    },
    {
      "cell_type": "code",
      "metadata": {
        "colab": {
          "base_uri": "https://localhost:8080/"
        },
        "id": "Ae9DLY6J7aOo",
        "outputId": "14ddb6f0-a19d-4f15-9644-c1c0130c52e3"
      },
      "source": [
        "x"
      ],
      "execution_count": null,
      "outputs": [
        {
          "output_type": "execute_result",
          "data": {
            "text/plain": [
              "array([0.        , 0.08333333, 0.16666667, 0.25      , 0.33333333,\n",
              "       0.41666667, 0.5       , 0.58333333, 0.66666667, 0.75      ,\n",
              "       0.83333333, 0.91666667, 1.        ])"
            ]
          },
          "metadata": {
            "tags": []
          },
          "execution_count": 68
        }
      ]
    },
    {
      "cell_type": "markdown",
      "metadata": {
        "id": "x9eNmwpVsJBk"
      },
      "source": [
        "#### Local Stiffness Matrix & RHS Vector & Local to Global"
      ]
    },
    {
      "cell_type": "markdown",
      "metadata": {
        "id": "sHEtatXf_tpU"
      },
      "source": [
        "Global Level\n",
        "\\begin{align}\n",
        "    K_{AB} &= \\int_0^1\\partial_xN_A\\partial_xN_Bdx \\\\\n",
        "    F_A &= \\int_0^1N_Afdx + q_0N_A(0) - T_1\\int_0^1\\partial_xN_A\\partial_xN_{Nel+1}dx\n",
        "\\end{align}\n",
        "\n",
        "Elemental Level\n",
        "\\begin{align}\n",
        "    k_{ab}^e &= \\sum_{e=1}^{Nel}\\int_{\\Omega_e}\\partial_xN_a\\partial_xN_bdx \\\\\n",
        "    f_a^e &= \\int_{\\Omega_e}N_afdx + q_0N_a(0) - T_1\\int_{\\Omega_e}\\partial_xN_A\\partial_xN_{Nel+1}dx\n",
        "\\end{align}\n",
        "    Since $N_A(0)$ is only defined at the left bound and is multiplied by a constant, $q_0N_A(0)$ is equivalent to $q_0\\delta_{a1}$. Likewise, since $N_{Nel+1}$ is only defined at the right bound, it becomes equivalent to $k_{ab}^e$ when $e=Nel$; therefore, at $e=Nel$, the term is equivalent to $-T_1k_{a(Nel)}^e$. This leads to:\n",
        "\n",
        "\\begin{align}\n",
        "    f_a^e =\\int_{\\Omega_e}N_afdx + \n",
        "        \\begin{cases}\n",
        "            q_0\\delta_{a1} \\qquad&\\text{if}\\qquad e=1 \\\\\n",
        "            -T_1k_{a(Nel)}^e \\qquad&\\text{if}\\qquad e=Nel \\\\\n",
        "            0 \\qquad&\\text{else}\n",
        "        \\end{cases}\n",
        "\\end{align}\n",
        "\n",
        "Reference Domain\n",
        "> Use Jacobian to transition. Reference domain is $[-1, 1]$.\n",
        "\n",
        "\\begin{align}\n",
        "    k_{ab}^e &= \\int_{-1}^1\\partial_\\xi N_a \\frac{d\\xi}{dx}\\partial_\\xi N_b \\frac{d\\xi}{dx} \\bigg(\\frac{dx}{d\\xi}\\bigg)d\\xi \\\\[10pt]\n",
        "    f_a^e &= \\int_{-1}^1N_a\\frac{d\\xi}{dx}fd\\xi + \n",
        "        \\begin{cases}\n",
        "            q_0\\delta_{a1} \\qquad&\\text{if}\\qquad e=1 \\\\\n",
        "            -T_1k_{a2}^e \\qquad&\\text{if}\\qquad e=Nel \\\\\n",
        "            0 \\qquad&\\text{else}\n",
        "        \\end{cases}\n",
        "\\end{align}\n",
        "\n",
        "Using\n",
        "\\begin{align}\n",
        "    \\frac{d\\xi}{dx} = \\frac{2}{h_e} \\qquad\\qquad\n",
        "    \\frac{dx}{d\\xi} = \\frac{h_e}{2}\n",
        "\\end{align}\n",
        "\n",
        "We can rewrite as\n",
        "\n",
        "\\begin{align}\n",
        "    k_{ab}^e &= \\frac 2{h_e}\\int_{-1}^1\\partial_\\xi N_a \\partial_\\xi N_b d\\xi \\\\[10pt]\n",
        "    f_a^e &= \\frac {h_e}2\\int_{-1}^1N_afd\\xi + \n",
        "        \\begin{cases}\n",
        "            q_0\\delta_{a1} \\qquad&\\text{if}\\qquad e=1 \\\\\n",
        "            -T_1k_{a2}^e \\qquad&\\text{if}\\qquad e=Nel \\\\\n",
        "            0 \\qquad&\\text{else}\n",
        "        \\end{cases}\n",
        "\\end{align}"
      ]
    },
    {
      "cell_type": "markdown",
      "metadata": {
        "id": "mzrH29yuVTho"
      },
      "source": [
        "Furthermore, we use the 3-point difference for each $\\xi(x)$ to arrive at the following equations:\n",
        "\n",
        "\\begin{align}\n",
        "    \\xi(x) &= \\frac{2x-x_A-x_{A+1}}{h_e} \\\\\n",
        "    x(\\xi) &= \\frac 12\\big(h_e\\xi(x)+x_A+x_{A+1}\\big)\n",
        "\\end{align}\n",
        "\n",
        "Since we use 2 shape functions as well (in this case), we define\n",
        "\n",
        "$$\n",
        "    N_a(\\xi) = \\frac 12(1+\\xi_a\\xi)\n",
        "$$\n",
        "Leading to\n",
        "$$\n",
        "    \\partial_\\xi N_a = \\frac {\\xi_a}{2} = \\frac 12(-1)^a\n",
        "$$\n",
        "\n",
        "We can finally rewrite the integrals as sums, apply $N_a$ or the derivative of $N_a$ with respect to $\\xi$, and transform into matrix or vector notation. This is only possible because we have a known and fixed number of shape functions. Thus, our stiffness matrix and force vector are:\n",
        "\n",
        "\\begin{align}\n",
        "    k_{ab}^e &= \\sum_{a,b}^2\\frac{1}{h_e}(-1)^{a+b} \\\\\n",
        "    k^e &= \\frac{1}{h_e}\n",
        "        \\begin{bmatrix}\n",
        "             1 & -1 \\\\\n",
        "            -1 &  1\n",
        "        \\end{bmatrix} \\\\[10pt]\n",
        "    f_a^e &= \\frac{h_e}{2}\\sum_{a}^2N_af \\\\\n",
        "    f^e &= \\frac{h_e}{4}\n",
        "        \\begin{bmatrix}\n",
        "            (1-\\xi)f \\\\\n",
        "            (1+\\xi)f\n",
        "        \\end{bmatrix} +\n",
        "            \\begin{cases}\n",
        "                q_0\\delta_{a1} \\qquad&\\text{if}\\qquad e=1 \\\\\n",
        "                -T_1k_{a2}^e \\qquad&\\text{if}\\qquad e=Nel \\\\\n",
        "                0 \\qquad&\\text{else}\n",
        "            \\end{cases}\n",
        "\\end{align}\n",
        "\n",
        "> NOTE: I am unclear on the class notes where $f^e$ transformed into matrix form, particularly since it's only out of a single dimension ($A$) and is even called the force _vector_. I believe the notes may have had a typo on this, or I could just be lost on how we arrived at that representation."
      ]
    },
    {
      "cell_type": "code",
      "metadata": {
        "id": "RowJM1LXsO_c",
        "colab": {
          "base_uri": "https://localhost:8080/",
          "height": 421
        },
        "outputId": "66e23ba8-d10e-428b-9831-2f62634f8da4"
      },
      "source": [
        "# Stiffness Matrix (K_ij)\n",
        "\n",
        "def stiffness_matrix(Nel,h):\n",
        "    K = np.zeros((Nel, Nel))\n",
        "    for i in range(Nel):\n",
        "        for j in range(Nel):\n",
        "            if i == j:\n",
        "                K[i, j] = 1/h\n",
        "            elif i == j + 1:\n",
        "                K[i, j] = -1/h\n",
        "            elif i + 1 == j:\n",
        "                K[i, j] = -1/h\n",
        "            else:\n",
        "                K[i, j] = 0\n",
        "    return K\n",
        "\n",
        "fig, axs = plt.subplots(1,2)\n",
        "axs[0].imshow(K)\n",
        "axs[0].set_title(\"Stiffness Matrix\")\n",
        "axs[1].plot(K)\n",
        "axs[1].set_title(\"Stiffness Matrix\")"
      ],
      "execution_count": null,
      "outputs": [
        {
          "output_type": "execute_result",
          "data": {
            "text/plain": [
              "Text(0.5, 1.0, 'Stiffness Matrix')"
            ]
          },
          "metadata": {
            "tags": []
          },
          "execution_count": 63
        },
        {
          "output_type": "display_data",
          "data": {
            "image/png": "[encoded data removed]",
            "text/plain": [
              "<Figure size 864x432 with 2 Axes>"
            ]
          },
          "metadata": {
            "tags": [],
            "needs_background": "light"
          }
        }
      ]
    },
    {
      "cell_type": "code",
      "metadata": {
        "id": "xLud39SEjx1C"
      },
      "source": [
        "# Force vector (RHS) - needs to be fixed\n",
        "\n",
        "def RHS(Nel, h, f, q0, T1):\n",
        "    f_vec = np.zeros(Nel)\n",
        "    for i in range(Nel):\n",
        "        if i == 0:\n",
        "            f[i] = h/4 * 2 * f\n",
        "        else:\n",
        "            f[i] = h/4 * f\n",
        "    \n",
        "    f[0] += q0  # edit after determining what \\delta is supposed to be\n",
        "    f[-1] += -T1 * stiffness_matrix(Nx,h)[-1,-1]    # double check this - I think it is incorrect\n",
        "\n",
        "    return f_vec"
      ],
      "execution_count": null,
      "outputs": []
    },
    {
      "cell_type": "markdown",
      "metadata": {
        "id": "KmRo0DyJ5ICy"
      },
      "source": [
        "Map from local to global where the reference domain is defined on $|\\xi_1,\\xi_2|$ where $\\xi_1 = -1$ and $\\xi_2 = 1$ for any subset of the global domain $\\big[X_A, X_{A+1}\\big]$."
      ]
    },
    {
      "cell_type": "code",
      "metadata": {
        "id": "xDox9N1FsRhr"
      },
      "source": [
        "# take to global (it's hodgepodged above - separete it out)\n",
        "for i in range(Nx):         # loop through the elements\n",
        "    for j in range(Nel):    # loop through the shape functions\n",
        "\n",
        "\n",
        "# only thing left to do is fix the Nx and Nel confusion, finish the global/local for-loop, then run it.\n",
        "# fix the RHS function to take into consideration Nx, not just Nel"
      ],
      "execution_count": null,
      "outputs": []
    }
  ]
}